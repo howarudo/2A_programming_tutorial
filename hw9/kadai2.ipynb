{
 "cells": [
  {
   "cell_type": "markdown",
   "metadata": {},
   "source": [
    "# 課題2\n",
    "Howard Tangkulung (タンクルン・ホワルド)\n",
    "\n",
    "J4-220368"
   ]
  },
  {
   "cell_type": "code",
   "execution_count": 5,
   "metadata": {},
   "outputs": [],
   "source": [
    "import math # for exponents\n"
   ]
  },
  {
   "cell_type": "code",
   "execution_count": 6,
   "metadata": {},
   "outputs": [],
   "source": [
    "class Matrix:\n",
    "    def __init__(self, a, b, c, d):\n",
    "        self.a11 = a\n",
    "        self.a12 = b\n",
    "        self.a21 = c\n",
    "        self.a22 = d\n",
    "\n",
    "    def __repr__(self):\n",
    "        # printing in the format of\n",
    "        # [first row]\n",
    "        # [second row]\n",
    "        return (f'''[{self.a11}, {self.a12}]\\n[{self.a21}, {self.a22}]''')\n",
    "\n",
    "    def add(self, m):\n",
    "        # summing each elements\n",
    "        _a11 = self.a11 + m.a11\n",
    "        _a12 = self.a12 + m.a12\n",
    "        _a21 = self.a21 + m.a21\n",
    "        _a22 = self.a22 + m.a22\n",
    "        return Matrix(_a11, _a12, _a21, _a22)\n",
    "\n",
    "    def mul(self, m):\n",
    "        # matrix multiplication of self * m\n",
    "        _a11 = self.a11*m.a11 + self.a12*m.a21\n",
    "        _a12 = self.a11*m.a12 + self.a12*m.a22\n",
    "        _a21 = self.a21*m.a11 + self.a22*m.a21\n",
    "        _a22 = self.a21*m.a12 + self.a22*m.a22\n",
    "        return Matrix(_a11, _a12, _a21, _a22)\n",
    "\n",
    "\n",
    "    def inverse(self):\n",
    "        # calculate the inverse of a matrix.\n",
    "        determinant = self.a11*self.a22 - self.a12*self.a21\n",
    "        if determinant == 0:\n",
    "            raise ValueError('Determinant is zero. Unable to compute inverse\\n')\n",
    "        _a11 = self.a22 / determinant\n",
    "        _a12 = (-1) * self.a12 / determinant\n",
    "        _a21 = (-1) * self.a21 / determinant\n",
    "        _a22 = self.a11 / determinant\n",
    "        return Matrix(_a11, _a12, _a21, _a22)\n",
    "\n",
    "    def exp(self):\n",
    "        # returns the matrix exponential\n",
    "        def diagonalize(m):\n",
    "            # returns the eigenvalue in matrix form\n",
    "            e_value1 = (m.a11 + m.a22 + ((m.a11-m.a22)**2+4*m.a12*m.a21)**(0.5))/2\n",
    "            e_value2 = (m.a11 + m.a22 - ((m.a11-m.a22)**2+4*m.a12*m.a21)**(0.5))/2\n",
    "            return Matrix(e_value1, 0, 0, e_value2)\n",
    "\n",
    "        def eigenvector(m):\n",
    "            # returns eigenvector in matrix form\n",
    "            e_value_matrix = diagonalize(m)\n",
    "            v1 = (e_value_matrix.a11 - m.a11) / m.a12\n",
    "            v2 = (e_value_matrix.a22 - m.a11) / m.a12\n",
    "            return Matrix(1, 1, v1, v2)\n",
    "\n",
    "        d = diagonalize(self)\n",
    "        ev = eigenvector(self)\n",
    "        # utilising e^(HAH-1) = H e^A H-1, if A is diagonal matrix\n",
    "        diagonalize_exp = Matrix(math.exp(d.a11), 0, 0, math.exp(d.a22))\n",
    "        return ev.mul(diagonalize_exp).mul(ev.inverse())\n"
   ]
  },
  {
   "cell_type": "code",
   "execution_count": 7,
   "metadata": {},
   "outputs": [
    {
     "data": {
      "text/plain": [
       "[51.968956198705, 74.73656456700321]\n",
       "[112.10484685050481, 164.07380304920983]"
      ]
     },
     "execution_count": 7,
     "metadata": {},
     "output_type": "execute_result"
    }
   ],
   "source": [
    "m = Matrix(1, 2, 3, 4)\n",
    "m.exp()\n"
   ]
  },
  {
   "cell_type": "code",
   "execution_count": null,
   "metadata": {},
   "outputs": [],
   "source": []
  }
 ],
 "metadata": {
  "kernelspec": {
   "display_name": "sandbox",
   "language": "python",
   "name": "python3"
  },
  "language_info": {
   "codemirror_mode": {
    "name": "ipython",
    "version": 3
   },
   "file_extension": ".py",
   "mimetype": "text/x-python",
   "name": "python",
   "nbconvert_exporter": "python",
   "pygments_lexer": "ipython3",
   "version": "3.10.6"
  }
 },
 "nbformat": 4,
 "nbformat_minor": 2
}
