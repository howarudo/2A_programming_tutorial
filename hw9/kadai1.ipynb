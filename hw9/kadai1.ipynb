{
 "cells": [
  {
   "cell_type": "markdown",
   "metadata": {},
   "source": [
    "# 課題1\n",
    "Howard Tangkulung (タンクルン・ホワルド)\n",
    "\n",
    "J4-220368"
   ]
  },
  {
   "cell_type": "code",
   "execution_count": 95,
   "metadata": {},
   "outputs": [],
   "source": [
    "class Matrix:\n",
    "    def __init__(self, a, b, c, d):\n",
    "        self.a11 = a\n",
    "        self.a12 = b\n",
    "        self.a21 = c\n",
    "        self.a22 = d\n",
    "\n",
    "    def __repr__(self):\n",
    "        # printing in the format of\n",
    "        # [first row]\n",
    "        # [second row]\n",
    "        return (f'''[{self.a11}, {self.a12}]\\n[{self.a21}, {self.a22}]''')\n",
    "\n",
    "    def add(self, m):\n",
    "        # summing each elements\n",
    "        self.a11 += m.a11\n",
    "        self.a12 += m.a12\n",
    "        self.a21 += m.a21\n",
    "        self.a22 += m.a22\n",
    "        return self\n",
    "\n",
    "    def mul(self, m):\n",
    "        # matrix multiplication of self * m\n",
    "        _a11 = self.a11*m.a11 + self.a12*m.a21\n",
    "        _a12 = self.a11*m.a12 + self.a12*m.a22\n",
    "        _a21 = self.a21*m.a11 + self.a22*m.a21\n",
    "        _a22 = self.a21*m.a12 + self.a22*m.a22\n",
    "        self.a11, self.a12, self.a21, self.a22 = _a11, _a12, _a21, _a22\n",
    "        return self\n"
   ]
  },
  {
   "cell_type": "code",
   "execution_count": 96,
   "metadata": {},
   "outputs": [
    {
     "name": "stdout",
     "output_type": "stream",
     "text": [
      "[1, 2]\n",
      "[3, 4]\n"
     ]
    }
   ],
   "source": [
    "m = Matrix(1, 2, 3, 4)\n",
    "m1 = Matrix(0, 1, 2, 3)\n",
    "print(m)\n"
   ]
  },
  {
   "cell_type": "code",
   "execution_count": 97,
   "metadata": {},
   "outputs": [
    {
     "name": "stdout",
     "output_type": "stream",
     "text": [
      "[0, 1]\n",
      "[2, 3]\n"
     ]
    }
   ],
   "source": [
    "print(m1)\n"
   ]
  },
  {
   "cell_type": "code",
   "execution_count": 98,
   "metadata": {},
   "outputs": [
    {
     "name": "stdout",
     "output_type": "stream",
     "text": [
      "[4, 7]\n",
      "[8, 15]\n"
     ]
    }
   ],
   "source": [
    "A = m.mul(m1)\n",
    "print(A)\n"
   ]
  },
  {
   "cell_type": "code",
   "execution_count": null,
   "metadata": {},
   "outputs": [],
   "source": []
  }
 ],
 "metadata": {
  "kernelspec": {
   "display_name": "sandbox",
   "language": "python",
   "name": "python3"
  },
  "language_info": {
   "codemirror_mode": {
    "name": "ipython",
    "version": 3
   },
   "file_extension": ".py",
   "mimetype": "text/x-python",
   "name": "python",
   "nbconvert_exporter": "python",
   "pygments_lexer": "ipython3",
   "version": "3.10.6"
  }
 },
 "nbformat": 4,
 "nbformat_minor": 2
}
