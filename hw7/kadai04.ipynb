{
 "cells": [
  {
   "cell_type": "code",
   "execution_count": 1,
   "metadata": {},
   "outputs": [
    {
     "name": "stdout",
     "output_type": "stream",
     "text": [
      "1b00000000010\n",
      "0b00000000000\n",
      "0b0000000000a\n",
      "0b00000aUKYOA\n"
     ]
    }
   ],
   "source": [
    "def hash_to_62(hash_num):\n",
    "    # converts an integer (pos or neg) to base 62\n",
    "    chars = \"0123456789abcdefghijklmnopqrstuvwxyzABCDEFGHIJKLMNOPQRSTUVWXYZ\"\n",
    "    res = \"\"\n",
    "    is_negative = False\n",
    "    # set maximum length of hash to 11\n",
    "    max_length = 11\n",
    "\n",
    "    if hash_num < 0:\n",
    "        is_negative = True\n",
    "        hash_num = -1*hash_num\n",
    "\n",
    "    while hash_num != 0:\n",
    "        # change number to base 62\n",
    "        res = chars[hash_num % 62] + res\n",
    "        hash_num = hash_num // 62\n",
    "\n",
    "    res = \"0\" * (max_length - len(res)) + res\n",
    "    if is_negative:\n",
    "        # if hash is negative, add \"1b\" infront of the result\n",
    "        res = \"1b\" + res\n",
    "    else:\n",
    "        # \"0b\" if it is positive or 0\n",
    "        res = \"0b\" + res\n",
    "\n",
    "    return res\n",
    "\n",
    "print(hash_to_62(-62))\n",
    "print(hash_to_62(0))\n",
    "print(hash_to_62(10))\n",
    "print(hash_to_62(10000000000))\n"
   ]
  },
  {
   "cell_type": "code",
   "execution_count": 2,
   "metadata": {},
   "outputs": [],
   "source": [
    "URL_DICT = {}\n",
    "def generate_short_url(url):\n",
    "    # hashes and changes the hash to base 62\n",
    "    key_ = hash_to_62(hash(url))\n",
    "    URL_DICT[key_] = url\n",
    "    return key_\n",
    "def get_long_url(key_):\n",
    "    # takes key form global var of url_dict\n",
    "    return URL_DICT[key_]\n"
   ]
  },
  {
   "cell_type": "code",
   "execution_count": 3,
   "metadata": {},
   "outputs": [
    {
     "data": {
      "text/plain": [
       "'0b1Vdgy9aQHtC'"
      ]
     },
     "execution_count": 3,
     "metadata": {},
     "output_type": "execute_result"
    }
   ],
   "source": [
    "generate_short_url('http://hello.com')\n"
   ]
  },
  {
   "cell_type": "code",
   "execution_count": 6,
   "metadata": {},
   "outputs": [
    {
     "data": {
      "text/plain": [
       "'http://hello.com'"
      ]
     },
     "execution_count": 6,
     "metadata": {},
     "output_type": "execute_result"
    }
   ],
   "source": [
    "get_long_url('0b1Vdgy9aQHtC')\n"
   ]
  },
  {
   "cell_type": "code",
   "execution_count": 7,
   "metadata": {},
   "outputs": [
    {
     "data": {
      "text/plain": [
       "'1b8ZrdKhllAmH'"
      ]
     },
     "execution_count": 7,
     "metadata": {},
     "output_type": "execute_result"
    }
   ],
   "source": [
    "generate_short_url('http://google.com')\n"
   ]
  },
  {
   "cell_type": "code",
   "execution_count": 8,
   "metadata": {},
   "outputs": [
    {
     "data": {
      "text/plain": [
       "'http://google.com'"
      ]
     },
     "execution_count": 8,
     "metadata": {},
     "output_type": "execute_result"
    }
   ],
   "source": [
    "get_long_url('1b8ZrdKhllAmH')\n"
   ]
  },
  {
   "cell_type": "code",
   "execution_count": null,
   "metadata": {},
   "outputs": [],
   "source": []
  }
 ],
 "metadata": {
  "kernelspec": {
   "display_name": "lewagon",
   "language": "python",
   "name": "python3"
  },
  "language_info": {
   "codemirror_mode": {
    "name": "ipython",
    "version": 3
   },
   "file_extension": ".py",
   "mimetype": "text/x-python",
   "name": "python",
   "nbconvert_exporter": "python",
   "pygments_lexer": "ipython3",
   "version": "3.10.6"
  }
 },
 "nbformat": 4,
 "nbformat_minor": 2
}
