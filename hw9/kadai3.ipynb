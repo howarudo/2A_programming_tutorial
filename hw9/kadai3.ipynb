{
 "cells": [
  {
   "cell_type": "code",
   "execution_count": 124,
   "metadata": {},
   "outputs": [],
   "source": [
    "import random\n",
    "import statistics\n"
   ]
  },
  {
   "cell_type": "code",
   "execution_count": 134,
   "metadata": {},
   "outputs": [],
   "source": [
    "class RandomWalk:\n",
    "    def __init__(self, p, x0):\n",
    "        self.p = p\n",
    "        self.x = x0\n",
    "\n",
    "    def __repr__(self):\n",
    "        return (f'''p: {self.p}, x = {self.x}''')\n",
    "\n",
    "    def next_step(self):\n",
    "        # generate random number between 0 and 1 if less than p then move right\n",
    "        x = random.random()\n",
    "        if x < self.p:\n",
    "            self.x += 1\n",
    "        else:\n",
    "            self.x -= 1\n",
    "        return self\n",
    "\n",
    "    def gen_traj(self, n):\n",
    "        # stores all trajectory in traj\n",
    "        # includes the initial step\n",
    "        traj = []\n",
    "        for _ in range(n+1):\n",
    "            traj.append(self.x)\n",
    "            x = random.random()\n",
    "            if x < self.p:\n",
    "                self.x += 1\n",
    "            else:\n",
    "                self.x -= 1\n",
    "        return traj\n",
    "\n",
    "    def calc_stats(self, step_number, trial_number):\n",
    "        results = []\n",
    "        for _ in range(trial_number):\n",
    "            # 初期値をコピーする（しないとincrementされる）\n",
    "            start_x = self.x\n",
    "            for _ in range(step_number):\n",
    "                x = random.random()\n",
    "                if x < self.p:\n",
    "                    start_x += 1\n",
    "                else:\n",
    "                    start_x -= 1\n",
    "            # stepが終わったら結果のリストに入れる\n",
    "            results.append(start_x)\n",
    "        return statistics.mean(results), statistics.variance(results)\n"
   ]
  },
  {
   "cell_type": "code",
   "execution_count": 135,
   "metadata": {},
   "outputs": [
    {
     "data": {
      "text/plain": [
       "p: 1, x = 1"
      ]
     },
     "execution_count": 135,
     "metadata": {},
     "output_type": "execute_result"
    }
   ],
   "source": [
    "rw = RandomWalk(p=1, x0=0)\n",
    "rw.next_step()\n"
   ]
  },
  {
   "cell_type": "code",
   "execution_count": 136,
   "metadata": {},
   "outputs": [
    {
     "data": {
      "text/plain": [
       "[0, -1, -2, -1, 0, 1, 2, 3, 2, 1, 2]"
      ]
     },
     "execution_count": 136,
     "metadata": {},
     "output_type": "execute_result"
    }
   ],
   "source": [
    "rw = RandomWalk(p=0.6, x0=0)\n",
    "rw.gen_traj(10)\n"
   ]
  },
  {
   "cell_type": "code",
   "execution_count": 137,
   "metadata": {},
   "outputs": [
    {
     "data": {
      "text/plain": [
       "(20.02, 94.67146714671468)"
      ]
     },
     "execution_count": 137,
     "metadata": {},
     "output_type": "execute_result"
    }
   ],
   "source": [
    "rw = RandomWalk(p=0.6, x0=0)\n",
    "rw.calc_stats(100, 10000)\n"
   ]
  },
  {
   "cell_type": "code",
   "execution_count": null,
   "metadata": {},
   "outputs": [],
   "source": []
  }
 ],
 "metadata": {
  "kernelspec": {
   "display_name": "sandbox",
   "language": "python",
   "name": "python3"
  },
  "language_info": {
   "codemirror_mode": {
    "name": "ipython",
    "version": 3
   },
   "file_extension": ".py",
   "mimetype": "text/x-python",
   "name": "python",
   "nbconvert_exporter": "python",
   "pygments_lexer": "ipython3",
   "version": "3.10.6"
  }
 },
 "nbformat": 4,
 "nbformat_minor": 2
}
